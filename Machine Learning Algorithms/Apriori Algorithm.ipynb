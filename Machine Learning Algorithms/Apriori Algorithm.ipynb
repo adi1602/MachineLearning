{
 "cells": [
  {
   "cell_type": "code",
   "execution_count": 1,
   "id": "2520627b",
   "metadata": {},
   "outputs": [
    {
     "name": "stdout",
     "output_type": "stream",
     "text": [
      "Collecting mlxtend\n",
      "  Downloading mlxtend-0.22.0-py2.py3-none-any.whl (1.4 MB)\n",
      "\u001b[2K     \u001b[90m━━━━━━━━━━━━━━━━━━━━━━━━━━━━━━━━━━━━━━━━\u001b[0m \u001b[32m1.4/1.4 MB\u001b[0m \u001b[31m1.2 MB/s\u001b[0m eta \u001b[36m0:00:00\u001b[0m00:01\u001b[0m00:01\u001b[0m0m\n",
      "\u001b[?25hRequirement already satisfied: matplotlib>=3.0.0 in ./opt/anaconda3/lib/python3.9/site-packages (from mlxtend) (3.6.2)\n",
      "Requirement already satisfied: setuptools in ./opt/anaconda3/lib/python3.9/site-packages (from mlxtend) (65.5.0)\n",
      "Requirement already satisfied: pandas>=0.24.2 in ./opt/anaconda3/lib/python3.9/site-packages (from mlxtend) (1.5.1)\n",
      "Requirement already satisfied: joblib>=0.13.2 in ./opt/anaconda3/lib/python3.9/site-packages (from mlxtend) (1.3.1)\n",
      "Requirement already satisfied: scipy>=1.2.1 in ./opt/anaconda3/lib/python3.9/site-packages (from mlxtend) (1.11.1)\n",
      "Requirement already satisfied: scikit-learn>=1.0.2 in ./opt/anaconda3/lib/python3.9/site-packages (from mlxtend) (1.3.0)\n",
      "Requirement already satisfied: numpy>=1.16.2 in ./opt/anaconda3/lib/python3.9/site-packages (from mlxtend) (1.23.4)\n",
      "Requirement already satisfied: pyparsing>=2.2.1 in ./opt/anaconda3/lib/python3.9/site-packages (from matplotlib>=3.0.0->mlxtend) (3.0.9)\n",
      "Requirement already satisfied: kiwisolver>=1.0.1 in ./opt/anaconda3/lib/python3.9/site-packages (from matplotlib>=3.0.0->mlxtend) (1.4.4)\n",
      "Requirement already satisfied: packaging>=20.0 in ./opt/anaconda3/lib/python3.9/site-packages (from matplotlib>=3.0.0->mlxtend) (23.0)\n",
      "Requirement already satisfied: contourpy>=1.0.1 in ./opt/anaconda3/lib/python3.9/site-packages (from matplotlib>=3.0.0->mlxtend) (1.0.6)\n",
      "Requirement already satisfied: cycler>=0.10 in ./opt/anaconda3/lib/python3.9/site-packages (from matplotlib>=3.0.0->mlxtend) (0.11.0)\n",
      "Requirement already satisfied: python-dateutil>=2.7 in ./opt/anaconda3/lib/python3.9/site-packages (from matplotlib>=3.0.0->mlxtend) (2.8.2)\n",
      "Requirement already satisfied: fonttools>=4.22.0 in ./opt/anaconda3/lib/python3.9/site-packages (from matplotlib>=3.0.0->mlxtend) (4.38.0)\n",
      "Requirement already satisfied: pillow>=6.2.0 in ./opt/anaconda3/lib/python3.9/site-packages (from matplotlib>=3.0.0->mlxtend) (9.2.0)\n",
      "Requirement already satisfied: pytz>=2020.1 in ./opt/anaconda3/lib/python3.9/site-packages (from pandas>=0.24.2->mlxtend) (2022.1)\n",
      "Requirement already satisfied: threadpoolctl>=2.0.0 in ./opt/anaconda3/lib/python3.9/site-packages (from scikit-learn>=1.0.2->mlxtend) (3.2.0)\n",
      "Requirement already satisfied: six>=1.5 in ./opt/anaconda3/lib/python3.9/site-packages (from python-dateutil>=2.7->matplotlib>=3.0.0->mlxtend) (1.16.0)\n",
      "Installing collected packages: mlxtend\n",
      "Successfully installed mlxtend-0.22.0\n",
      "Note: you may need to restart the kernel to use updated packages.\n"
     ]
    }
   ],
   "source": [
    "#Installing the libaries\n",
    "pip install mlxtend"
   ]
  },
  {
   "cell_type": "code",
   "execution_count": 2,
   "id": "439bcc18",
   "metadata": {},
   "outputs": [],
   "source": [
    "#importing the libaries\n",
    "import pandas as pd\n",
    "from mlxtend.frequent_patterns import apriori, association_rules"
   ]
  },
  {
   "cell_type": "code",
   "execution_count": 3,
   "id": "54f75321",
   "metadata": {},
   "outputs": [],
   "source": [
    "#Sample dataset\n",
    "data = [\n",
    "    ['milk', 'bread', 'eggs'],\n",
    "    ['milk', 'bread'],\n",
    "    ['milk', 'eggs'],\n",
    "    ['bread', 'eggs'],\n",
    "    ['bread', 'milk', 'eggs', 'cheese'],\n",
    "    ['cheese', 'eggs']\n",
    "]"
   ]
  },
  {
   "cell_type": "code",
   "execution_count": 4,
   "id": "da4fbfbe",
   "metadata": {},
   "outputs": [],
   "source": [
    "# Convert the dataset into a one-hot encoded DataFrame\n",
    "df = pd.DataFrame([[1 if item in transaction else 0 for item in ['milk', 'bread', 'eggs', 'cheese']] for transaction in data], columns=['milk', 'bread', 'eggs', 'cheese'])"
   ]
  },
  {
   "cell_type": "code",
   "execution_count": 5,
   "id": "9f603b60",
   "metadata": {},
   "outputs": [
    {
     "name": "stderr",
     "output_type": "stream",
     "text": [
      "/Users/adityamahajan/opt/anaconda3/lib/python3.9/site-packages/mlxtend/frequent_patterns/fpcommon.py:110: DeprecationWarning: DataFrames with non-bool types result in worse computationalperformance and their support might be discontinued in the future.Please use a DataFrame with bool type\n",
      "  warnings.warn(\n"
     ]
    }
   ],
   "source": [
    "# Generate frequent itemsets\n",
    "frequent_itemsets = apriori(df, min_support=0.5, use_colnames=True)"
   ]
  },
  {
   "cell_type": "code",
   "execution_count": 6,
   "id": "bd3e46e7",
   "metadata": {},
   "outputs": [],
   "source": [
    "#Generate association rules\n",
    "rules = association_rules(frequent_itemsets, metric='confidence', min_threshold=0.7)\n"
   ]
  },
  {
   "cell_type": "code",
   "execution_count": 7,
   "id": "b4e0c269",
   "metadata": {},
   "outputs": [
    {
     "name": "stdout",
     "output_type": "stream",
     "text": [
      "Frequent Itemsets:\n",
      "    support       itemsets\n",
      "0  0.666667         (milk)\n",
      "1  0.666667        (bread)\n",
      "2  0.833333         (eggs)\n",
      "3  0.500000  (milk, bread)\n",
      "4  0.500000   (milk, eggs)\n",
      "5  0.500000  (eggs, bread)\n",
      "\n",
      "Association Rules:\n",
      "  antecedents consequents  support  confidence\n",
      "0      (milk)     (bread)      0.5        0.75\n",
      "1     (bread)      (milk)      0.5        0.75\n",
      "2      (milk)      (eggs)      0.5        0.75\n",
      "3     (bread)      (eggs)      0.5        0.75\n"
     ]
    }
   ],
   "source": [
    "#Printing the result\n",
    "print(\"Frequent Itemsets:\")\n",
    "print(frequent_itemsets)\n",
    "print(\"\\nAssociation Rules:\")\n",
    "print(rules[['antecedents', 'consequents', 'support', 'confidence']])"
   ]
  },
  {
   "cell_type": "code",
   "execution_count": null,
   "id": "d412ac76",
   "metadata": {},
   "outputs": [],
   "source": []
  }
 ],
 "metadata": {
  "kernelspec": {
   "display_name": "Python 3 (ipykernel)",
   "language": "python",
   "name": "python3"
  },
  "language_info": {
   "codemirror_mode": {
    "name": "ipython",
    "version": 3
   },
   "file_extension": ".py",
   "mimetype": "text/x-python",
   "name": "python",
   "nbconvert_exporter": "python",
   "pygments_lexer": "ipython3",
   "version": "3.9.17"
  }
 },
 "nbformat": 4,
 "nbformat_minor": 5
}
